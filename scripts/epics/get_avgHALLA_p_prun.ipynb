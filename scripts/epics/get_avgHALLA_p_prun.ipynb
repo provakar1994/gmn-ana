{
 "cells": [
  {
   "cell_type": "markdown",
   "id": "essential-surname",
   "metadata": {},
   "source": [
    "### Script to get average beam energy per run for GMn/nTPE confidurations using `HALLA_p` (from E tree) variable [CREATED 02/08/23]\n",
    "Until now we have been using a beam enrgy number that was put in the GMn run list by the shift crew but that is not precise enough for physics analysis. Hence, I am trying to determine the best was to get the beam energy for all the runs. Observations we make using this script should give us some insight on the above mentioned matter. Configuration file `conf_get_avgHALLA_p_prun.json` is needed to execute this script.\n",
    "#### Issues\n",
    "1. `HALLA_p` variable that carries the beam energy we get from some EPICS variable can be found in the EPICS tree (E) as well as in the T tree. There is a caveat though. EPICS events are only once in 8 seconds or so whereas our event rate is ~ 2.5kHz. As a consequence, we don't have a beam energy value for every physics event. So, it is not a one-to-one mapping between E tree and T tree.\n",
    "2. Our replay takes care of the above mentioned issue to some extent by recording the same EPICS value for every physics event between two EPICS events. This would mean that we should just be able to use `HALLA_p` variable from T tree two get beam energy every event but there is still another issue. Since, we have recorded a huge amount of data every run, our raw data file (.evio) as well as the replay file have several segments per run. Whenever there is a change of segment during replay, podd fills the `HALLA_p` variable with some absurdly large negative number until it finds the first EPICS event. As a result, at the beginning of every segment a bunch of events don't really have a HALLA_p value. Since, we don't really store info about the segment number in the tree, surpassing this issue becomes complicated. \n",
    "\n",
    "#### Possible Approaches \n",
    "1. Defining event range: Andrew's idea, \"A better approach is to chain together all the root files from a given run and then define event ranges and beam energy values between EPICS events from the EPICS tree (“E”). For some of the pass 0 and pass 1 replays this method won’t work, since the global event counting is not working properly in earlier versions of SBS-offline/Podd. But that is the scheme you probably want to implement for the final analysis. That method would guarantee that every event after the first EPICS event in any given CODA run will have a valid HALLA_p value (assuming the beam was on when that event was recorded, but that is a separate issue). For the events from the beginning of the run to the first EPICS event you could use the HALLA_p from the first EPICs event.\"\n",
    "2. The **easiest approach** is to get an average `HALLA_p` value per run by looping through E tree and use that number for analysis. Here is Andrew's opinion on this, \"In the mean time, a safer but arguably less precise approach would be to take the average of all HALLA_p values in the EPICs tree and use that as a single beam energy value for analysis of a given run. Because the EPICs events are “slow” you aren’t really getting an “instantaneous” beam energy that is in sync with the physics events anyway. So just using an average is probably just as good in terms of accuracy.\" <span style=\"color:red\">Both Mark & Bogdan think this approach should be good enough for our analysis. We will take this approach in this script.</span>\n",
    "\n",
    "#### Implementation Ideas\n",
    "1. For the 2nd approach I want to do the following:\n",
    "    - Create a CSV file with run number and average HALLA_p values per run for every configuration per target type.\n",
    "    - Then while looping through the T tree for physics analysis I will grab the run number for every event and read the `HALLA_p` value from the CSV file.\n",
    "2. For the 1st approach I plan to do the following:\n",
    "    - Sort by segment numbers before chaining together ROOT files from a given run.\n",
    "    - For a unique run use the `HALLA_p` branch from tree and then replace the large negative values of the first however many events with the `HALLA_p` value of the last event of previous segment. NOTE: In case of `seg0-0` use a table that contain the first `HALLA_p` value per runnumber.\n",
    "\n",
    "#### A few Observations through this Study\n",
    "1. Average beam energy vs. run number plot (the error bars represented std) revealed that there are a handful of runs that have much higher spread than the rest of them. \n",
    "2. Further investigation revealed that one or two EPICS events of those runs have `HALLA_p` value recorded as 0! Reason behind this is unkown but it seemed pretty clear that those events were responsible for higher spread and shifted the mean as well. After filtering out those values from analysis, average beam energy and its spread looked quite reasonable across all the runs.\n",
    "3. We got one EPICS event roughly every 20K events, which makes sense given our trigger rate. \n",
    "4. Several runs have multiple entries for single global event number! \n",
    "    - Not sure about the reason yet! Need to further filter the dataset requiring unique event number per run. <span style=\"color:red\">Done</span>     "
   ]
  },
  {
   "cell_type": "code",
   "execution_count": 1,
   "id": "aboriginal-projection",
   "metadata": {},
   "outputs": [
    {
     "name": "stderr",
     "output_type": "stream",
     "text": [
      "/home/pdbforce/.local/lib/python3.8/site-packages/pandas/core/computation/expressions.py:20: UserWarning: Pandas requires version '2.7.3' or newer of 'numexpr' (version '2.7.2' currently installed).\n",
      "  from pandas.core.computation.check import NUMEXPR_INSTALLED\n"
     ]
    }
   ],
   "source": [
    "import json\n",
    "import numpy as np\n",
    "import pandas as pd\n",
    "import matplotlib.pyplot as plt"
   ]
  },
  {
   "cell_type": "code",
   "execution_count": 2,
   "id": "controversial-penny",
   "metadata": {},
   "outputs": [
    {
     "name": "stdout",
     "output_type": "stream",
     "text": [
      "Config file for SBS-4, LH2 data has been loaded..\n"
     ]
    }
   ],
   "source": [
    "# Reading config file\n",
    "conf_file = open('conf_get_avgHALLA_p_prun.json')\n",
    "conf = json.load(conf_file)\n",
    "print(\"Config file for SBS-{}, {} data has been loaded..\".format(conf['SBS_config'], conf['target']))"
   ]
  },
  {
   "cell_type": "code",
   "execution_count": 3,
   "id": "attempted-kuwait",
   "metadata": {},
   "outputs": [
    {
     "data": {
      "text/html": [
       "<div>\n",
       "<style scoped>\n",
       "    .dataframe tbody tr th:only-of-type {\n",
       "        vertical-align: middle;\n",
       "    }\n",
       "\n",
       "    .dataframe tbody tr th {\n",
       "        vertical-align: top;\n",
       "    }\n",
       "\n",
       "    .dataframe thead th {\n",
       "        text-align: right;\n",
       "    }\n",
       "</style>\n",
       "<table border=\"1\" class=\"dataframe\">\n",
       "  <thead>\n",
       "    <tr style=\"text-align: right;\">\n",
       "      <th></th>\n",
       "      <th>runnum</th>\n",
       "      <th>evnum</th>\n",
       "      <th>HALLA_p</th>\n",
       "      <th>HALLA_p_gev</th>\n",
       "    </tr>\n",
       "  </thead>\n",
       "  <tbody>\n",
       "    <tr>\n",
       "      <th>0</th>\n",
       "      <td>11436</td>\n",
       "      <td>63373</td>\n",
       "      <td>3728.21</td>\n",
       "      <td>3.72821</td>\n",
       "    </tr>\n",
       "    <tr>\n",
       "      <th>1</th>\n",
       "      <td>11436</td>\n",
       "      <td>116184</td>\n",
       "      <td>3728.13</td>\n",
       "      <td>3.72813</td>\n",
       "    </tr>\n",
       "    <tr>\n",
       "      <th>2</th>\n",
       "      <td>11436</td>\n",
       "      <td>170027</td>\n",
       "      <td>3728.18</td>\n",
       "      <td>3.72818</td>\n",
       "    </tr>\n",
       "    <tr>\n",
       "      <th>3</th>\n",
       "      <td>11436</td>\n",
       "      <td>224502</td>\n",
       "      <td>3728.22</td>\n",
       "      <td>3.72822</td>\n",
       "    </tr>\n",
       "    <tr>\n",
       "      <th>4</th>\n",
       "      <td>11436</td>\n",
       "      <td>278493</td>\n",
       "      <td>3728.17</td>\n",
       "      <td>3.72817</td>\n",
       "    </tr>\n",
       "  </tbody>\n",
       "</table>\n",
       "</div>"
      ],
      "text/plain": [
       "   runnum   evnum  HALLA_p  HALLA_p_gev\n",
       "0   11436   63373  3728.21      3.72821\n",
       "1   11436  116184  3728.13      3.72813\n",
       "2   11436  170027  3728.18      3.72818\n",
       "3   11436  224502  3728.22      3.72822\n",
       "4   11436  278493  3728.17      3.72817"
      ]
     },
     "execution_count": 3,
     "metadata": {},
     "output_type": "execute_result"
    }
   ],
   "source": [
    "# Reading CSV file generated from get_avgHALLA_p_prun.cpp script. It should contain HALLA_p values and global event numbers per run\n",
    "ebeamdf = pd.DataFrame(pd.read_csv(\"epout/get_HALLA_p_prun_SBS{}_{}.csv\".format(conf['SBS_config'], conf['target'])))\n",
    "ebeamdf['HALLA_p_gev'] = ebeamdf['HALLA_p'] / 1000.0  # let's add a column for ebeam value in GeV\n",
    "ebeamdf.head()"
   ]
  },
  {
   "cell_type": "code",
   "execution_count": 4,
   "id": "moral-mouth",
   "metadata": {},
   "outputs": [
    {
     "data": {
      "text/html": [
       "<div>\n",
       "<style scoped>\n",
       "    .dataframe tbody tr th:only-of-type {\n",
       "        vertical-align: middle;\n",
       "    }\n",
       "\n",
       "    .dataframe tbody tr th {\n",
       "        vertical-align: top;\n",
       "    }\n",
       "\n",
       "    .dataframe thead tr th {\n",
       "        text-align: left;\n",
       "    }\n",
       "</style>\n",
       "<table border=\"1\" class=\"dataframe\">\n",
       "  <thead>\n",
       "    <tr>\n",
       "      <th></th>\n",
       "      <th>runnum</th>\n",
       "      <th colspan=\"2\" halign=\"left\">HALLA_p_gev</th>\n",
       "    </tr>\n",
       "    <tr>\n",
       "      <th></th>\n",
       "      <th></th>\n",
       "      <th>mean</th>\n",
       "      <th>std</th>\n",
       "    </tr>\n",
       "  </thead>\n",
       "  <tbody>\n",
       "    <tr>\n",
       "      <th>0</th>\n",
       "      <td>11436</td>\n",
       "      <td>3.728110</td>\n",
       "      <td>0.000158</td>\n",
       "    </tr>\n",
       "    <tr>\n",
       "      <th>1</th>\n",
       "      <td>11500</td>\n",
       "      <td>3.728207</td>\n",
       "      <td>0.000137</td>\n",
       "    </tr>\n",
       "    <tr>\n",
       "      <th>2</th>\n",
       "      <td>11547</td>\n",
       "      <td>3.727972</td>\n",
       "      <td>0.000171</td>\n",
       "    </tr>\n",
       "    <tr>\n",
       "      <th>3</th>\n",
       "      <td>11548</td>\n",
       "      <td>3.727826</td>\n",
       "      <td>0.000073</td>\n",
       "    </tr>\n",
       "    <tr>\n",
       "      <th>4</th>\n",
       "      <td>11573</td>\n",
       "      <td>3.728115</td>\n",
       "      <td>0.000126</td>\n",
       "    </tr>\n",
       "  </tbody>\n",
       "</table>\n",
       "</div>"
      ],
      "text/plain": [
       "  runnum HALLA_p_gev          \n",
       "                mean       std\n",
       "0  11436    3.728110  0.000158\n",
       "1  11500    3.728207  0.000137\n",
       "2  11547    3.727972  0.000171\n",
       "3  11548    3.727826  0.000073\n",
       "4  11573    3.728115  0.000126"
      ]
     },
     "execution_count": 4,
     "metadata": {},
     "output_type": "execute_result"
    }
   ],
   "source": [
    "# Calculating mean and std of beam energy per run\n",
    "avgebeamdf = ebeamdf.groupby('runnum').agg({'HALLA_p_gev':['mean','std']}).reset_index()\n",
    "avgebeamdf.head()"
   ]
  },
  {
   "cell_type": "code",
   "execution_count": 5,
   "id": "expensive-montana",
   "metadata": {},
   "outputs": [
    {
     "data": {
      "image/png": "[encoded data removed]",
      "text/plain": [
       "<Figure size 432x288 with 1 Axes>"
      ]
     },
     "metadata": {
      "needs_background": "light"
     },
     "output_type": "display_data"
    }
   ],
   "source": [
    "# Plotting average HALLA_p as a function of run numbers (std values are shown as yerrors)\n",
    "cut_sigma = avgebeamdf['HALLA_p_gev']['std'] < 1 #0.0006 # Defining a cut definition to choose range of std\n",
    "plt.errorbar(avgebeamdf['runnum'][cut_sigma], avgebeamdf['HALLA_p_gev']['mean'][cut_sigma], yerr=avgebeamdf['HALLA_p_gev']['std'][cut_sigma], fmt='o')\n",
    "#plt.xticks(avgebeamdf['runnum'], rotation=90)\n",
    "#plt.xlim(12670,12700)\n",
    "plt.xlabel('Run Number')\n",
    "plt.ylabel('Beam Energy (GeV)')\n",
    "plt.show()"
   ]
  },
  {
   "cell_type": "markdown",
   "id": "covered-sweet",
   "metadata": {},
   "source": [
    "### Filtering out ebeamdf for the following two things\n",
    "1. HALLA_p > 0\n",
    "2. Unique EPICS event for a unique global event"
   ]
  },
  {
   "cell_type": "code",
   "execution_count": 6,
   "id": "imperial-marine",
   "metadata": {},
   "outputs": [
    {
     "data": {
      "image/png": "[encoded data removed]",
      "text/plain": [
       "<Figure size 432x288 with 1 Axes>"
      ]
     },
     "metadata": {
      "needs_background": "light"
     },
     "output_type": "display_data"
    }
   ],
   "source": [
    "# 1. HALLA_p > 0\n",
    "ebeamdf_nz = ebeamdf[ebeamdf['HALLA_p'] != 0] # applying the filter\n",
    "# Calculating mean and std of beam energy per run again with filtered data\n",
    "avgebeamdf_nz = ebeamdf_nz.groupby('runnum').agg({'HALLA_p_gev':['mean','std']}).reset_index()\n",
    "# Plotting average HALLA_p as a function of run numbers (std values are shown as yerrors)\n",
    "cut_sigma_nz = avgebeamdf_nz['HALLA_p_gev']['std'] < 1 #0.0006 # Defining a cut definition to choose range of std\n",
    "plt.errorbar(avgebeamdf_nz['runnum'][cut_sigma], avgebeamdf_nz['HALLA_p_gev']['mean'][cut_sigma], yerr=avgebeamdf_nz['HALLA_p_gev']['std'][cut_sigma], fmt='o')\n",
    "#plt.xticks(avgebeamdf['runnum'], rotation=90)\n",
    "#plt.xlim(12670,12700)\n",
    "plt.xlabel('Run Number')\n",
    "plt.ylabel('Beam Energy (GeV)')\n",
    "plt.show()"
   ]
  },
  {
   "cell_type": "code",
   "execution_count": 7,
   "id": "scientific-commerce",
   "metadata": {},
   "outputs": [
    {
     "data": {
      "text/html": [
       "<div>\n",
       "<style scoped>\n",
       "    .dataframe tbody tr th:only-of-type {\n",
       "        vertical-align: middle;\n",
       "    }\n",
       "\n",
       "    .dataframe tbody tr th {\n",
       "        vertical-align: top;\n",
       "    }\n",
       "\n",
       "    .dataframe thead th {\n",
       "        text-align: right;\n",
       "    }\n",
       "</style>\n",
       "<table border=\"1\" class=\"dataframe\">\n",
       "  <thead>\n",
       "    <tr style=\"text-align: right;\">\n",
       "      <th></th>\n",
       "      <th>runnum</th>\n",
       "      <th>evnum</th>\n",
       "      <th>HALLA_p</th>\n",
       "      <th>HALLA_p_gev</th>\n",
       "    </tr>\n",
       "  </thead>\n",
       "  <tbody>\n",
       "    <tr>\n",
       "      <th>0</th>\n",
       "      <td>11436</td>\n",
       "      <td>63373</td>\n",
       "      <td>3728.21</td>\n",
       "      <td>3.72821</td>\n",
       "    </tr>\n",
       "    <tr>\n",
       "      <th>1</th>\n",
       "      <td>11436</td>\n",
       "      <td>116184</td>\n",
       "      <td>3728.13</td>\n",
       "      <td>3.72813</td>\n",
       "    </tr>\n",
       "    <tr>\n",
       "      <th>2</th>\n",
       "      <td>11436</td>\n",
       "      <td>170027</td>\n",
       "      <td>3728.18</td>\n",
       "      <td>3.72818</td>\n",
       "    </tr>\n",
       "    <tr>\n",
       "      <th>3</th>\n",
       "      <td>11436</td>\n",
       "      <td>224502</td>\n",
       "      <td>3728.22</td>\n",
       "      <td>3.72822</td>\n",
       "    </tr>\n",
       "    <tr>\n",
       "      <th>4</th>\n",
       "      <td>11436</td>\n",
       "      <td>278493</td>\n",
       "      <td>3728.17</td>\n",
       "      <td>3.72817</td>\n",
       "    </tr>\n",
       "  </tbody>\n",
       "</table>\n",
       "</div>"
      ],
      "text/plain": [
       "   runnum   evnum  HALLA_p  HALLA_p_gev\n",
       "0   11436   63373  3728.21      3.72821\n",
       "1   11436  116184  3728.13      3.72813\n",
       "2   11436  170027  3728.18      3.72818\n",
       "3   11436  224502  3728.22      3.72822\n",
       "4   11436  278493  3728.17      3.72817"
      ]
     },
     "execution_count": 7,
     "metadata": {},
     "output_type": "execute_result"
    }
   ],
   "source": [
    "# 2. Unique EPICS event for a unique global event\n",
    "ebeamdf_nz_nd = ebeamdf_nz.drop_duplicates(subset=['runnum', 'evnum'], keep='first')\n",
    "ebeamdf_nz_nd.head()"
   ]
  },
  {
   "cell_type": "code",
   "execution_count": 8,
   "id": "proved-northern",
   "metadata": {},
   "outputs": [],
   "source": [
    "# Calculating total no of EPICS events per run before and after filtering duplicate entries\n",
    "# before\n",
    "nevents_epics_bf = ebeamdf_nz['runnum'].value_counts().reset_index()\n",
    "nevents_epics_bf_df = pd.DataFrame(nevents_epics_bf)\n",
    "nevents_epics_bf_df.columns = ['runnum', 'nevents']\n",
    "#nevents_epics.to_frame() # this is not working! No clue why!\n",
    "# after\n",
    "nevents_epics_af = ebeamdf_nz_nd['runnum'].value_counts().reset_index()\n",
    "nevents_epics_af_df = pd.DataFrame(nevents_epics_af)\n",
    "nevents_epics_af_df.columns = ['runnum', 'nevents']\n",
    "# calculate difference for a particular run\n",
    "#nevents_epics_bf_df[nevents_epics_bf_df['runnum'] == 12902] - nevents_epics_af_df[nevents_epics_af_df['runnum'] == 12902]"
   ]
  },
  {
   "cell_type": "code",
   "execution_count": 9,
   "id": "rough-merit",
   "metadata": {},
   "outputs": [
    {
     "data": {
      "image/png": "[encoded data removed]",
      "text/plain": [
       "<Figure size 432x288 with 1 Axes>"
      ]
     },
     "metadata": {
      "needs_background": "light"
     },
     "output_type": "display_data"
    }
   ],
   "source": [
    "# Take difference in total number of EPICS events before and after and then plot the values vs run numbers\n",
    "ndup_prun = pd.merge(nevents_epics_bf, nevents_epics_af, on='runnum', suffixes=('', '_ndup'))\n",
    "ndup_prun['ndup'] = ndup_prun['nevents'] - ndup_prun['nevents_ndup']\n",
    "plt.scatter(x=ndup_prun['runnum'], y=ndup_prun['ndup'])\n",
    "plt.xlabel('Run Number')\n",
    "plt.ylabel('No. of Duplicate EPICS Events')\n",
    "plt.show()"
   ]
  },
  {
   "cell_type": "code",
   "execution_count": 10,
   "id": "elegant-alexandria",
   "metadata": {},
   "outputs": [
    {
     "data": {
      "text/html": [
       "<div>\n",
       "<style scoped>\n",
       "    .dataframe tbody tr th:only-of-type {\n",
       "        vertical-align: middle;\n",
       "    }\n",
       "\n",
       "    .dataframe tbody tr th {\n",
       "        vertical-align: top;\n",
       "    }\n",
       "\n",
       "    .dataframe thead tr th {\n",
       "        text-align: left;\n",
       "    }\n",
       "</style>\n",
       "<table border=\"1\" class=\"dataframe\">\n",
       "  <thead>\n",
       "    <tr>\n",
       "      <th></th>\n",
       "      <th>runnum</th>\n",
       "      <th colspan=\"2\" halign=\"left\">HALLA_p_gev</th>\n",
       "    </tr>\n",
       "    <tr>\n",
       "      <th></th>\n",
       "      <th></th>\n",
       "      <th>mean</th>\n",
       "      <th>std</th>\n",
       "    </tr>\n",
       "  </thead>\n",
       "  <tbody>\n",
       "    <tr>\n",
       "      <th>0</th>\n",
       "      <td>11436</td>\n",
       "      <td>3.728110</td>\n",
       "      <td>0.000158</td>\n",
       "    </tr>\n",
       "    <tr>\n",
       "      <th>1</th>\n",
       "      <td>11500</td>\n",
       "      <td>3.728207</td>\n",
       "      <td>0.000137</td>\n",
       "    </tr>\n",
       "    <tr>\n",
       "      <th>2</th>\n",
       "      <td>11547</td>\n",
       "      <td>3.727972</td>\n",
       "      <td>0.000171</td>\n",
       "    </tr>\n",
       "    <tr>\n",
       "      <th>3</th>\n",
       "      <td>11548</td>\n",
       "      <td>3.727826</td>\n",
       "      <td>0.000073</td>\n",
       "    </tr>\n",
       "    <tr>\n",
       "      <th>4</th>\n",
       "      <td>11573</td>\n",
       "      <td>3.728115</td>\n",
       "      <td>0.000126</td>\n",
       "    </tr>\n",
       "  </tbody>\n",
       "</table>\n",
       "</div>"
      ],
      "text/plain": [
       "  runnum HALLA_p_gev          \n",
       "                mean       std\n",
       "0  11436    3.728110  0.000158\n",
       "1  11500    3.728207  0.000137\n",
       "2  11547    3.727972  0.000171\n",
       "3  11548    3.727826  0.000073\n",
       "4  11573    3.728115  0.000126"
      ]
     },
     "execution_count": 10,
     "metadata": {},
     "output_type": "execute_result"
    }
   ],
   "source": [
    "# # Calculating final mean and std of beam energy per run with completely filtered data\n",
    "avgebeamdf_nz_nd = ebeamdf_nz_nd.groupby('runnum').agg({'HALLA_p_gev':['mean','std']}).reset_index()\n",
    "avgebeamdf_nz_nd.head()"
   ]
  },
  {
   "cell_type": "code",
   "execution_count": 11,
   "id": "intelligent-arabic",
   "metadata": {},
   "outputs": [
    {
     "data": {
      "image/png": "[encoded data removed]",
      "text/plain": [
       "<Figure size 432x288 with 1 Axes>"
      ]
     },
     "metadata": {
      "needs_background": "light"
     },
     "output_type": "display_data"
    }
   ],
   "source": [
    "# Plotting HALLA_p as a function of run numbers w/ and w/o cuts on duplicate EPICS events\n",
    "cut_sigma = avgebeamdf_nz['HALLA_p_gev']['std'] < 1\n",
    "cut_sigma_nd = avgebeamdf_nz_nd['HALLA_p_gev']['std'] < 1\n",
    "plt.errorbar(avgebeamdf_nz['runnum'][cut_sigma], avgebeamdf_nz['HALLA_p_gev']['mean'][cut_sigma], yerr=avgebeamdf_nz['HALLA_p_gev']['std'][cut_sigma], fmt='o', color='r', label='w/ duplicates')\n",
    "plt.errorbar(avgebeamdf_nz_nd['runnum'][cut_sigma], avgebeamdf_nz_nd['HALLA_p_gev']['mean'][cut_sigma_nd], yerr=avgebeamdf_nz_nd['HALLA_p_gev']['std'][cut_sigma_nd], fmt='o', alpha=0.4, label='w/o duplicates')\n",
    "#plt.xticks(sbs11_ld2_mean_std_p_run_nz_nd['runnum'], rotation=90)\n",
    "#plt.xlim(12650,12700)\n",
    "plt.legend()\n",
    "plt.xlabel('Run Number')\n",
    "plt.ylabel('Beam Energy (GeV)')\n",
    "plt.show()"
   ]
  },
  {
   "cell_type": "code",
   "execution_count": 12,
   "id": "educated-special",
   "metadata": {},
   "outputs": [
    {
     "data": {
      "text/html": [
       "<div>\n",
       "<style scoped>\n",
       "    .dataframe tbody tr th:only-of-type {\n",
       "        vertical-align: middle;\n",
       "    }\n",
       "\n",
       "    .dataframe tbody tr th {\n",
       "        vertical-align: top;\n",
       "    }\n",
       "\n",
       "    .dataframe thead th {\n",
       "        text-align: right;\n",
       "    }\n",
       "</style>\n",
       "<table border=\"1\" class=\"dataframe\">\n",
       "  <thead>\n",
       "    <tr style=\"text-align: right;\">\n",
       "      <th></th>\n",
       "      <th>runnum</th>\n",
       "      <th>ebeam_mean(GeV)</th>\n",
       "      <th>ebeam_std(GeV)</th>\n",
       "    </tr>\n",
       "  </thead>\n",
       "  <tbody>\n",
       "    <tr>\n",
       "      <th>0</th>\n",
       "      <td>11436</td>\n",
       "      <td>3.728110</td>\n",
       "      <td>0.000158</td>\n",
       "    </tr>\n",
       "    <tr>\n",
       "      <th>1</th>\n",
       "      <td>11500</td>\n",
       "      <td>3.728207</td>\n",
       "      <td>0.000137</td>\n",
       "    </tr>\n",
       "    <tr>\n",
       "      <th>2</th>\n",
       "      <td>11547</td>\n",
       "      <td>3.727972</td>\n",
       "      <td>0.000171</td>\n",
       "    </tr>\n",
       "    <tr>\n",
       "      <th>3</th>\n",
       "      <td>11548</td>\n",
       "      <td>3.727826</td>\n",
       "      <td>0.000073</td>\n",
       "    </tr>\n",
       "    <tr>\n",
       "      <th>4</th>\n",
       "      <td>11573</td>\n",
       "      <td>3.728115</td>\n",
       "      <td>0.000126</td>\n",
       "    </tr>\n",
       "  </tbody>\n",
       "</table>\n",
       "</div>"
      ],
      "text/plain": [
       "   runnum  ebeam_mean(GeV)  ebeam_std(GeV)\n",
       "0   11436         3.728110        0.000158\n",
       "1   11500         3.728207        0.000137\n",
       "2   11547         3.727972        0.000171\n",
       "3   11548         3.727826        0.000073\n",
       "4   11573         3.728115        0.000126"
      ]
     },
     "execution_count": 12,
     "metadata": {},
     "output_type": "execute_result"
    }
   ],
   "source": [
    "# Getting tables with HALLA_p_mean and HALLA_p_std per run and saving the values in a CSV file\n",
    "trun_nz_nd = avgebeamdf_nz_nd['runnum']\n",
    "tmean_nz_nd = avgebeamdf_nz_nd['HALLA_p_gev']['mean']\n",
    "tstd_nz_nd = avgebeamdf_nz_nd['HALLA_p_gev']['std']\n",
    "tm1_nz_nd = pd.merge(trun_nz_nd, tmean_nz_nd, left_index=True, right_index=True)\n",
    "final_table_nz_nd = pd.merge(tm1_nz_nd, tstd_nz_nd, left_index=True, right_index=True)\n",
    "final_table_nz_nd.columns = ['runnum', 'ebeam_mean(GeV)', 'ebeam_std(GeV)']\n",
    "final_table_nz_nd.head()"
   ]
  },
  {
   "cell_type": "markdown",
   "id": "specialized-prime",
   "metadata": {},
   "source": [
    "### Checking for NaNs\n",
    "<span style=\"color:red\">ATTENTION</span>"
   ]
  },
  {
   "cell_type": "code",
   "execution_count": 13,
   "id": "colored-domestic",
   "metadata": {},
   "outputs": [],
   "source": [
    "anyNaN = final_table_nz_nd.isnull().values.any()\n",
    "#final_table_nz_nd.loc[pd.isna(final_table_nz_nd).any(1), :].index\n",
    "if (anyNaN == True): \n",
    "    print('NaN exists! Replacing with 0')\n",
    "    final_table_nz_nd = final_table_nz_nd.fillna(0)"
   ]
  },
  {
   "cell_type": "markdown",
   "id": "stopped-valentine",
   "metadata": {},
   "source": [
    "### CAUTION!!\n",
    "<span style=\"color:red\">Execute the cell below only when super confident!</span>"
   ]
  },
  {
   "cell_type": "code",
   "execution_count": 14,
   "id": "lonely-textbook",
   "metadata": {},
   "outputs": [],
   "source": [
    "# write out a csv file\n",
    "#outfile = '../../DB/{}/avg_ebeam_prun_sbs{}_{}.csv'.format(conf['target'], conf['SBS_config'], conf['target'])\n",
    "#final_table_nz_nd.to_csv(outfile, index=False)\n",
    "#print(\"Average beam energy per run for SBS-{}, {} data has been written to {}.\".format(conf['SBS_config'], conf['target'], outfile))"
   ]
  },
  {
   "cell_type": "markdown",
   "id": "coordinate-electron",
   "metadata": {},
   "source": [
    "### Important step - Taking into consideration the discrepancy between EPICS value and measured value\n",
    "Doug measured hall A beam energy (4th pass) in 2016 and found that there is a discrepancy between the energy value he got and what HALLA_p EPICS PV was reading. HALLA_p value was a factor of **1.003** lower than the measured value. Here is a link to the log entry he had made after the measurement: https://logbooks.jlab.org/entry/3448841 . Since we haven't measure Hall A energy during GMn, we will be using the above mentioned factor for our analysis as well. Look at https://github.com/provakar1994/gmn-ana/blob/master/DB/join_n_merge_rLists.ipynb for more details."
   ]
  },
  {
   "cell_type": "code",
   "execution_count": 15,
   "id": "hollow-hebrew",
   "metadata": {},
   "outputs": [
    {
     "data": {
      "text/plain": [
       "3.7392"
      ]
     },
     "execution_count": 15,
     "metadata": {},
     "output_type": "execute_result"
    }
   ],
   "source": [
    "#final_table_nz_nd['ebeam_std(GeV)'].max() - final_table_nz['ebeam_std(GeV)'].max()\n",
    "#final_table_nz_nd['ebeam_std(GeV)'][final_table_nz_nd['runnum'] != 12902].max()\n",
    "np.round(final_table_nz_nd['ebeam_mean(GeV)'].mean() * 1.003, 4)"
   ]
  },
  {
   "cell_type": "code",
   "execution_count": 16,
   "id": "armed-exhaust",
   "metadata": {},
   "outputs": [
    {
     "data": {
      "text/plain": [
       "0.00022404308105060486"
      ]
     },
     "execution_count": 16,
     "metadata": {},
     "output_type": "execute_result"
    }
   ],
   "source": [
    "final_table_nz_nd['ebeam_std(GeV)'].max() * 1.003"
   ]
  },
  {
   "cell_type": "markdown",
   "id": "legitimate-lebanon",
   "metadata": {},
   "source": [
    "## -------------- End ----------------"
   ]
  },
  {
   "cell_type": "markdown",
   "id": "alike-competition",
   "metadata": {},
   "source": [
    "### Implement mechinery to plot the distribution of beam energy per run"
   ]
  },
  {
   "cell_type": "code",
   "execution_count": 17,
   "id": "systematic-disposal",
   "metadata": {},
   "outputs": [],
   "source": [
    "import seaborn as sns"
   ]
  },
  {
   "cell_type": "code",
   "execution_count": 18,
   "id": "ultimate-warner",
   "metadata": {},
   "outputs": [
    {
     "data": {
      "text/plain": [
       "<seaborn.axisgrid.FacetGrid at 0x7fc1a117e790>"
      ]
     },
     "execution_count": 18,
     "metadata": {},
     "output_type": "execute_result"
    },
    {
     "data": {
      "image/png": "[encoded data removed]",
      "text/plain": [
       "<Figure size 360x360 with 1 Axes>"
      ]
     },
     "metadata": {
      "needs_background": "light"
     },
     "output_type": "display_data"
    }
   ],
   "source": [
    "# All runs\n",
    "sns.displot(data=ebeamdf_nz_nd, x='HALLA_p')"
   ]
  },
  {
   "cell_type": "code",
   "execution_count": 19,
   "id": "intellectual-malpractice",
   "metadata": {},
   "outputs": [
    {
     "data": {
      "text/plain": [
       "<seaborn.axisgrid.FacetGrid at 0x7fc1a10a49a0>"
      ]
     },
     "execution_count": 19,
     "metadata": {},
     "output_type": "execute_result"
    },
    {
     "data": {
      "image/png": "[encoded data removed]",
      "text/plain": [
       "<Figure size 360x360 with 1 Axes>"
      ]
     },
     "metadata": {
      "needs_background": "light"
     },
     "output_type": "display_data"
    }
   ],
   "source": [
    "# For a single run of choice\n",
    "run = ebeamdf_nz_nd['runnum'][0]\n",
    "sns.displot(data=ebeamdf_nz_nd[ebeamdf_nz_nd['runnum'] == run], x='HALLA_p')"
   ]
  },
  {
   "cell_type": "code",
   "execution_count": 20,
   "id": "biological-wyoming",
   "metadata": {},
   "outputs": [
    {
     "data": {
      "text/plain": [
       "<seaborn.axisgrid.FacetGrid at 0x7fc1a10a0400>"
      ]
     },
     "execution_count": 20,
     "metadata": {},
     "output_type": "execute_result"
    },
    {
     "data": {
      "image/png": "[encoded data removed]",
      "text/plain": [
       "<Figure size 1551.65x1080 with 11 Axes>"
      ]
     },
     "metadata": {
      "needs_background": "light"
     },
     "output_type": "display_data"
    }
   ],
   "source": [
    "# For all runs at once!\n",
    "sns.set_context('talk')\n",
    "sns.displot(data=ebeamdf_nz_nd, x='HALLA_p', hue='runnum', col='runnum', col_wrap=4)"
   ]
  },
  {
   "cell_type": "code",
   "execution_count": null,
   "id": "korean-knight",
   "metadata": {},
   "outputs": [],
   "source": []
  }
 ],
 "metadata": {
  "kernelspec": {
   "display_name": "Python 3",
   "language": "python",
   "name": "python3"
  },
  "language_info": {
   "codemirror_mode": {
    "name": "ipython",
    "version": 3
   },
   "file_extension": ".py",
   "mimetype": "text/x-python",
   "name": "python",
   "nbconvert_exporter": "python",
   "pygments_lexer": "ipython3",
   "version": "3.8.6"
  }
 },
 "nbformat": 4,
 "nbformat_minor": 5
}
